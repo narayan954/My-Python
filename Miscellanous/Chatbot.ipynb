{
  "nbformat": 4,
  "nbformat_minor": 0,
  "metadata": {
    "language_info": {
      "codemirror_mode": {
        "name": "ipython",
        "version": 3
      },
      "file_extension": ".py",
      "mimetype": "text/x-python",
      "name": "python",
      "nbconvert_exporter": "python",
      "pygments_lexer": "ipython3",
      "version": "3.7.10"
    },
    "orig_nbformat": 2,
    "kernelspec": {
      "name": "python3",
      "display_name": "Python 3.7.10 64-bit ('env': venv)",
      "metadata": {
        "interpreter": {
          "hash": "6e32e1d28f88a8b0d77932f402098c4f3443224fe056142dcf7528cb97b8ea5e"
        }
      }
    },
    "colab": {
      "name": "Chatbot.ipynb",
      "provenance": [],
      "collapsed_sections": [],
      "toc_visible": true
    }
  },
  "cells": [
    {
      "cell_type": "markdown",
      "metadata": {
        "id": "Br4q6Nc9A4iW"
      },
      "source": [
        "# Importing libraries and downloading packages"
      ]
    },
    {
      "cell_type": "markdown",
      "metadata": {
        "id": "9hkRZ0DShtBq"
      },
      "source": [
        "# New Section"
      ]
    },
    {
      "cell_type": "code",
      "metadata": {
        "id": "QNt7tOcEC48w"
      },
      "source": [
        "import nltk\n",
        "import numpy as np"
      ],
      "execution_count": null,
      "outputs": []
    },
    {
      "cell_type": "code",
      "metadata": {
        "id": "sgKLrIjRC486",
        "colab": {
          "base_uri": "https://localhost:8080/"
        },
        "outputId": "0c42245d-d514-46c4-b37b-7b175ea008a9"
      },
      "source": [
        "# downloading model to tokenize message\n",
        "nltk.download('punkt')\n",
        "# downloading stopwords\n",
        "nltk.download('stopwords')\n",
        "# downloading wordnet, which contains all lemmas of english language\n",
        "nltk.download('wordnet')"
      ],
      "execution_count": null,
      "outputs": [
        {
          "output_type": "stream",
          "text": [
            "[nltk_data] Downloading package punkt to /root/nltk_data...\n",
            "[nltk_data]   Unzipping tokenizers/punkt.zip.\n",
            "[nltk_data] Downloading package stopwords to /root/nltk_data...\n",
            "[nltk_data]   Unzipping corpora/stopwords.zip.\n",
            "[nltk_data] Downloading package wordnet to /root/nltk_data...\n",
            "[nltk_data]   Unzipping corpora/wordnet.zip.\n"
          ],
          "name": "stdout"
        },
        {
          "output_type": "execute_result",
          "data": {
            "text/plain": [
              "True"
            ]
          },
          "metadata": {
            "tags": []
          },
          "execution_count": 2
        }
      ]
    },
    {
      "cell_type": "code",
      "metadata": {
        "id": "Cy4x4jMmC488"
      },
      "source": [
        "from nltk.tokenize import word_tokenize\n",
        "from nltk.corpus import stopwords\n",
        "stop_words = stopwords.words('english')\n",
        "\n",
        "from nltk.stem import WordNetLemmatizer"
      ],
      "execution_count": null,
      "outputs": []
    },
    {
      "cell_type": "code",
      "metadata": {
        "colab": {
          "base_uri": "https://localhost:8080/"
        },
        "id": "7Q3fIVZVdYDG",
        "outputId": "1fb3b410-9aa8-4c40-b5ef-5e5bf333987b"
      },
      "source": [
        "stop_words"
      ],
      "execution_count": null,
      "outputs": [
        {
          "output_type": "execute_result",
          "data": {
            "text/plain": [
              "['i',\n",
              " 'me',\n",
              " 'my',\n",
              " 'myself',\n",
              " 'we',\n",
              " 'our',\n",
              " 'ours',\n",
              " 'ourselves',\n",
              " 'you',\n",
              " \"you're\",\n",
              " \"you've\",\n",
              " \"you'll\",\n",
              " \"you'd\",\n",
              " 'your',\n",
              " 'yours',\n",
              " 'yourself',\n",
              " 'yourselves',\n",
              " 'he',\n",
              " 'him',\n",
              " 'his',\n",
              " 'himself',\n",
              " 'she',\n",
              " \"she's\",\n",
              " 'her',\n",
              " 'hers',\n",
              " 'herself',\n",
              " 'it',\n",
              " \"it's\",\n",
              " 'its',\n",
              " 'itself',\n",
              " 'they',\n",
              " 'them',\n",
              " 'their',\n",
              " 'theirs',\n",
              " 'themselves',\n",
              " 'what',\n",
              " 'which',\n",
              " 'who',\n",
              " 'whom',\n",
              " 'this',\n",
              " 'that',\n",
              " \"that'll\",\n",
              " 'these',\n",
              " 'those',\n",
              " 'am',\n",
              " 'is',\n",
              " 'are',\n",
              " 'was',\n",
              " 'were',\n",
              " 'be',\n",
              " 'been',\n",
              " 'being',\n",
              " 'have',\n",
              " 'has',\n",
              " 'had',\n",
              " 'having',\n",
              " 'do',\n",
              " 'does',\n",
              " 'did',\n",
              " 'doing',\n",
              " 'a',\n",
              " 'an',\n",
              " 'the',\n",
              " 'and',\n",
              " 'but',\n",
              " 'if',\n",
              " 'or',\n",
              " 'because',\n",
              " 'as',\n",
              " 'until',\n",
              " 'while',\n",
              " 'of',\n",
              " 'at',\n",
              " 'by',\n",
              " 'for',\n",
              " 'with',\n",
              " 'about',\n",
              " 'against',\n",
              " 'between',\n",
              " 'into',\n",
              " 'through',\n",
              " 'during',\n",
              " 'before',\n",
              " 'after',\n",
              " 'above',\n",
              " 'below',\n",
              " 'to',\n",
              " 'from',\n",
              " 'up',\n",
              " 'down',\n",
              " 'in',\n",
              " 'out',\n",
              " 'on',\n",
              " 'off',\n",
              " 'over',\n",
              " 'under',\n",
              " 'again',\n",
              " 'further',\n",
              " 'then',\n",
              " 'once',\n",
              " 'here',\n",
              " 'there',\n",
              " 'when',\n",
              " 'where',\n",
              " 'why',\n",
              " 'how',\n",
              " 'all',\n",
              " 'any',\n",
              " 'both',\n",
              " 'each',\n",
              " 'few',\n",
              " 'more',\n",
              " 'most',\n",
              " 'other',\n",
              " 'some',\n",
              " 'such',\n",
              " 'no',\n",
              " 'nor',\n",
              " 'not',\n",
              " 'only',\n",
              " 'own',\n",
              " 'same',\n",
              " 'so',\n",
              " 'than',\n",
              " 'too',\n",
              " 'very',\n",
              " 's',\n",
              " 't',\n",
              " 'can',\n",
              " 'will',\n",
              " 'just',\n",
              " 'don',\n",
              " \"don't\",\n",
              " 'should',\n",
              " \"should've\",\n",
              " 'now',\n",
              " 'd',\n",
              " 'll',\n",
              " 'm',\n",
              " 'o',\n",
              " 're',\n",
              " 've',\n",
              " 'y',\n",
              " 'ain',\n",
              " 'aren',\n",
              " \"aren't\",\n",
              " 'couldn',\n",
              " \"couldn't\",\n",
              " 'didn',\n",
              " \"didn't\",\n",
              " 'doesn',\n",
              " \"doesn't\",\n",
              " 'hadn',\n",
              " \"hadn't\",\n",
              " 'hasn',\n",
              " \"hasn't\",\n",
              " 'haven',\n",
              " \"haven't\",\n",
              " 'isn',\n",
              " \"isn't\",\n",
              " 'ma',\n",
              " 'mightn',\n",
              " \"mightn't\",\n",
              " 'mustn',\n",
              " \"mustn't\",\n",
              " 'needn',\n",
              " \"needn't\",\n",
              " 'shan',\n",
              " \"shan't\",\n",
              " 'shouldn',\n",
              " \"shouldn't\",\n",
              " 'wasn',\n",
              " \"wasn't\",\n",
              " 'weren',\n",
              " \"weren't\",\n",
              " 'won',\n",
              " \"won't\",\n",
              " 'wouldn',\n",
              " \"wouldn't\"]"
            ]
          },
          "metadata": {
            "tags": []
          },
          "execution_count": 19
        }
      ]
    },
    {
      "cell_type": "markdown",
      "metadata": {
        "id": "XW2vOhbcBMXY"
      },
      "source": [
        "# Function to clean text"
      ]
    },
    {
      "cell_type": "code",
      "metadata": {
        "id": "A_End2kUC489"
      },
      "source": [
        "def clean_corpus(corpus):\n",
        "  # lowering every word in text\n",
        "  corpus = [ doc.lower() for doc in corpus]\n",
        "  cleaned_corpus = []\n",
        "  \n",
        "  stop_words = stopwords.words('english')\n",
        "  wordnet_lemmatizer = WordNetLemmatizer()\n",
        "\n",
        "  # iterating over every text\n",
        "  for doc in corpus:\n",
        "    # tokenizing text\n",
        "    tokens = word_tokenize(doc)\n",
        "    cleaned_sentence = [] \n",
        "    for token in tokens: \n",
        "      # removing stopwords, and punctuation\n",
        "      if token not in stop_words and token.isalpha(): \n",
        "        # applying lemmatization\n",
        "        cleaned_sentence.append(wordnet_lemmatizer.lemmatize(token)) \n",
        "    cleaned_corpus.append(' '.join(cleaned_sentence))\n",
        "  return cleaned_corpus"
      ],
      "execution_count": null,
      "outputs": []
    },
    {
      "cell_type": "markdown",
      "metadata": {
        "id": "97atD-mrBq_E"
      },
      "source": [
        "# Loading and cleaning intents"
      ]
    },
    {
      "cell_type": "code",
      "metadata": {
        "id": "BklOwtYLC48-"
      },
      "source": [
        "import json\n",
        "with open('intents.json') as file:\n",
        "    intents = json.load(file)"
      ],
      "execution_count": null,
      "outputs": []
    },
    {
      "cell_type": "code",
      "metadata": {
        "id": "6CEzIy-WC48_"
      },
      "source": [
        "corpus = []\n",
        "tags = []\n",
        "for intent in intents['intents']:\n",
        "    # taking all patterns in intents to train a neural network\n",
        "    for pattern in intent['patterns']:\n",
        "        corpus.append(pattern)\n",
        "        tags.append(intent['tag'])"
      ],
      "execution_count": null,
      "outputs": []
    },
    {
      "cell_type": "code",
      "metadata": {
        "id": "_jqWKIzkC48_",
        "colab": {
          "base_uri": "https://localhost:8080/"
        },
        "outputId": "bdaf57a7-45c4-4b89-af15-5a773f6febbc"
      },
      "source": [
        "cleaned_corpus = clean_corpus(corpus)\n",
        "cleaned_corpus"
      ],
      "execution_count": null,
      "outputs": [
        {
          "output_type": "execute_result",
          "data": {
            "text/plain": [
              "['hi',\n",
              " 'anyone',\n",
              " 'hey',\n",
              " 'hola',\n",
              " 'hello',\n",
              " 'good day',\n",
              " 'bye',\n",
              " 'see later',\n",
              " 'goodbye',\n",
              " 'nice chatting bye',\n",
              " 'till next time',\n",
              " '',\n",
              " 'thanks',\n",
              " 'thank',\n",
              " 'helpful',\n",
              " 'awesome thanks',\n",
              " 'thanks helping',\n",
              " 'could help',\n",
              " 'help provide',\n",
              " 'helpful',\n",
              " 'support offered',\n",
              " 'please check order status',\n",
              " 'able check order status',\n",
              " 'help order status',\n",
              " 'order status',\n",
              " 'order',\n",
              " 'food',\n",
              " 'track order',\n",
              " 'track food',\n",
              " 'hi want cancel order',\n",
              " 'want cancel order',\n",
              " 'please cancel order',\n",
              " 'cancel order',\n",
              " 'want add delivery instruction',\n",
              " 'please add delivery instruction',\n",
              " 'include delivery instruction',\n",
              " 'tell joke',\n",
              " 'feeling bored',\n",
              " 'joke please',\n",
              " 'make laugh',\n",
              " 'want laugh']"
            ]
          },
          "metadata": {
            "tags": []
          },
          "execution_count": 7
        }
      ]
    },
    {
      "cell_type": "markdown",
      "metadata": {
        "id": "h5nAAo7PB1Kz"
      },
      "source": [
        "# Vectorizing intents"
      ]
    },
    {
      "cell_type": "code",
      "metadata": {
        "id": "1Y_ngS1NC49A"
      },
      "source": [
        "from sklearn.feature_extraction.text import TfidfVectorizer\n",
        "vectorizer = TfidfVectorizer()\n",
        "X = vectorizer.fit_transform(cleaned_corpus)"
      ],
      "execution_count": null,
      "outputs": []
    },
    {
      "cell_type": "code",
      "metadata": {
        "id": "8PekvuYZDaAH"
      },
      "source": [
        "from sklearn.preprocessing import OneHotEncoder\n",
        "encoder = OneHotEncoder()\n",
        "y = encoder.fit_transform(np.array(tags).reshape(-1,1))"
      ],
      "execution_count": null,
      "outputs": []
    },
    {
      "cell_type": "markdown",
      "metadata": {
        "id": "BPtJ-gk5B5kN"
      },
      "source": [
        "# Training neural network"
      ]
    },
    {
      "cell_type": "code",
      "metadata": {
        "id": "RT_NXJApEYdr",
        "colab": {
          "base_uri": "https://localhost:8080/"
        },
        "outputId": "e369358a-b066-475c-ff5e-4bd660545bf6"
      },
      "source": [
        "from tensorflow.keras import Sequential\n",
        "from tensorflow.keras.layers import Dense, Dropout\n",
        "\n",
        "model = Sequential([\n",
        "                    Dense(128, input_shape=(X.shape[1],), activation='relu'),\n",
        "                    Dropout(0.2),\n",
        "                    Dense(64, activation='relu'),\n",
        "                    Dropout(0.2),\n",
        "                    Dense(y.shape[1], activation='softmax')\n",
        "])\n",
        "\n",
        "model.compile(loss='categorical_crossentropy', optimizer='adam', metrics=['accuracy'])\n",
        "model.summary()"
      ],
      "execution_count": null,
      "outputs": [
        {
          "output_type": "stream",
          "text": [
            "Model: \"sequential\"\n",
            "_________________________________________________________________\n",
            "Layer (type)                 Output Shape              Param #   \n",
            "=================================================================\n",
            "dense (Dense)                (None, 128)               5888      \n",
            "_________________________________________________________________\n",
            "dropout (Dropout)            (None, 128)               0         \n",
            "_________________________________________________________________\n",
            "dense_1 (Dense)              (None, 64)                8256      \n",
            "_________________________________________________________________\n",
            "dropout_1 (Dropout)          (None, 64)                0         \n",
            "_________________________________________________________________\n",
            "dense_2 (Dense)              (None, 8)                 520       \n",
            "=================================================================\n",
            "Total params: 14,664\n",
            "Trainable params: 14,664\n",
            "Non-trainable params: 0\n",
            "_________________________________________________________________\n"
          ],
          "name": "stdout"
        }
      ]
    },
    {
      "cell_type": "code",
      "metadata": {
        "id": "hQif3TZ2FwbK",
        "colab": {
          "base_uri": "https://localhost:8080/"
        },
        "outputId": "7344449e-f5df-4d0c-c16e-80db7f6f4c64"
      },
      "source": [
        "history = model.fit(X.toarray(), y.toarray(), epochs=20, batch_size=1)"
      ],
      "execution_count": null,
      "outputs": [
        {
          "output_type": "stream",
          "text": [
            "Epoch 1/20\n",
            "41/41 [==============================] - 1s 1ms/step - loss: 2.0674 - accuracy: 0.1463\n",
            "Epoch 2/20\n",
            "41/41 [==============================] - 0s 1ms/step - loss: 1.9691 - accuracy: 0.3171\n",
            "Epoch 3/20\n",
            "41/41 [==============================] - 0s 2ms/step - loss: 1.8552 - accuracy: 0.3902\n",
            "Epoch 4/20\n",
            "41/41 [==============================] - 0s 2ms/step - loss: 1.6917 - accuracy: 0.6098\n",
            "Epoch 5/20\n",
            "41/41 [==============================] - 0s 2ms/step - loss: 1.5040 - accuracy: 0.6585\n",
            "Epoch 6/20\n",
            "41/41 [==============================] - 0s 1ms/step - loss: 1.3098 - accuracy: 0.8537\n",
            "Epoch 7/20\n",
            "41/41 [==============================] - 0s 2ms/step - loss: 1.1402 - accuracy: 0.8537\n",
            "Epoch 8/20\n",
            "41/41 [==============================] - 0s 2ms/step - loss: 0.8784 - accuracy: 0.9024\n",
            "Epoch 9/20\n",
            "41/41 [==============================] - 0s 2ms/step - loss: 0.7643 - accuracy: 0.9024\n",
            "Epoch 10/20\n",
            "41/41 [==============================] - 0s 2ms/step - loss: 0.5881 - accuracy: 0.9268\n",
            "Epoch 11/20\n",
            "41/41 [==============================] - 0s 2ms/step - loss: 0.4587 - accuracy: 0.9024\n",
            "Epoch 12/20\n",
            "41/41 [==============================] - 0s 1ms/step - loss: 0.3330 - accuracy: 0.9756\n",
            "Epoch 13/20\n",
            "41/41 [==============================] - 0s 2ms/step - loss: 0.2803 - accuracy: 0.9756\n",
            "Epoch 14/20\n",
            "41/41 [==============================] - 0s 2ms/step - loss: 0.2796 - accuracy: 0.9268\n",
            "Epoch 15/20\n",
            "41/41 [==============================] - 0s 2ms/step - loss: 0.1651 - accuracy: 0.9756\n",
            "Epoch 16/20\n",
            "41/41 [==============================] - 0s 1ms/step - loss: 0.2103 - accuracy: 0.9756\n",
            "Epoch 17/20\n",
            "41/41 [==============================] - 0s 1ms/step - loss: 0.1648 - accuracy: 0.9512\n",
            "Epoch 18/20\n",
            "41/41 [==============================] - 0s 2ms/step - loss: 0.1385 - accuracy: 0.9756\n",
            "Epoch 19/20\n",
            "41/41 [==============================] - 0s 2ms/step - loss: 0.1393 - accuracy: 0.9756\n",
            "Epoch 20/20\n",
            "41/41 [==============================] - 0s 2ms/step - loss: 0.1233 - accuracy: 0.9756\n"
          ],
          "name": "stdout"
        }
      ]
    },
    {
      "cell_type": "markdown",
      "metadata": {
        "id": "vhbHBoOhB_hm"
      },
      "source": [
        "# Classifying messages to intent"
      ]
    },
    {
      "cell_type": "code",
      "metadata": {
        "id": "xoEL5PgKG-sv",
        "colab": {
          "base_uri": "https://localhost:8080/"
        },
        "outputId": "823c58f4-c1e2-4f06-86b2-d66f1dad88ea"
      },
      "source": [
        "# if prediction for every tag is low, then we want to classify that message as noanswer\n",
        "INTENT_NOT_FOUND_THRESHOLD = 0.40\n",
        "\n",
        "def predict_intent_tag(message):\n",
        "  message = clean_corpus([message])\n",
        "  X_test = vectorizer.transform(message)\n",
        "  y = model.predict(X_test.toarray())\n",
        "  # if probability of all intent is low, classify it as noanswer\n",
        "  if y.max() < INTENT_NOT_FOUND_THRESHOLD:\n",
        "    return 'noanswer'\n",
        "  \n",
        "  prediction = np.zeros_like(y[0])\n",
        "  prediction[y.argmax()] = 1\n",
        "  tag = encoder.inverse_transform([prediction])[0][0]\n",
        "  return tag\n",
        "\n",
        "print(predict_intent_tag('How you could help me?'))\n",
        "print(predict_intent_tag('swiggy chat bot'))\n",
        "print(predict_intent_tag('Where\\'s my order'))\n"
      ],
      "execution_count": null,
      "outputs": [
        {
          "output_type": "stream",
          "text": [
            "options\n",
            "goodbye\n",
            "order-status-request\n"
          ],
          "name": "stdout"
        }
      ]
    },
    {
      "cell_type": "code",
      "metadata": {
        "id": "VSM0pSo-P91L"
      },
      "source": [
        "import random\n",
        "import time "
      ],
      "execution_count": null,
      "outputs": []
    },
    {
      "cell_type": "code",
      "metadata": {
        "id": "ziNmSPKCLJSz"
      },
      "source": [
        "def get_intent(tag):\n",
        "  # to return complete intent from intent tag\n",
        "  for intent in intents['intents']:\n",
        "    if intent['tag'] == tag:\n",
        "      return intent"
      ],
      "execution_count": null,
      "outputs": []
    },
    {
      "cell_type": "code",
      "metadata": {
        "id": "H0x8dXrlPjIp"
      },
      "source": [
        "def perform_action(action_code, intent):\n",
        "  # funition to perform an action which is required by intent\n",
        "  \n",
        "  if action_code == 'CHECK_ORDER_STATUS':\n",
        "    print('\\n Checking database \\n')\n",
        "    time.sleep(2)\n",
        "    order_status = ['in kitchen', 'with delivery executive']\n",
        "    delivery_time = []\n",
        "    return {'intent-tag':intent['next-intent-tag'][0],\n",
        "            'order_status': random.choice(order_status),\n",
        "            'delivery_time': random.randint(10, 30)}\n",
        "  \n",
        "  elif action_code == 'ORDER_CANCEL_CONFIRMATION':\n",
        "    ch = input('BOT: Do you want to continue (Y/n) ?')\n",
        "    if ch == 'y' or ch == 'Y':\n",
        "      choice = 0\n",
        "    else:\n",
        "      choice = 1\n",
        "    return {'intent-tag':intent['next-intent-tag'][choice]}\n",
        "  \n",
        "  elif action_code == 'ADD_DELIVERY_INSTRUCTIONS':\n",
        "    instructions = input('Your Instructions: ')\n",
        "    return {'intent-tag':intent['next-intent-tag'][0]}"
      ],
      "execution_count": null,
      "outputs": []
    },
    {
      "cell_type": "markdown",
      "metadata": {
        "id": "zg_Ct0YQCry5"
      },
      "source": [
        "# Complete chat bot"
      ]
    },
    {
      "cell_type": "code",
      "metadata": {
        "id": "axwe43o_JRm6"
      },
      "source": [
        "while True:\n",
        "  # get message from user\n",
        "  message = input('You: ')\n",
        "  # predict intent tag using trained neural network\n",
        "  tag = predict_intent_tag(message)\n",
        "  # get complete intent from intent tag\n",
        "  intent = get_intent(tag)\n",
        "  # generate random response from intent\n",
        "  response = random.choice(intent['responses'])\n",
        "  print('Bot: ', response)\n",
        "\n",
        "  # check if there's a need to perform some action\n",
        "  if 'action' in intent.keys():\n",
        "    action_code = intent['action']\n",
        "    # perform action\n",
        "    data = perform_action(action_code, intent)\n",
        "    # get follow up intent after performing action\n",
        "    followup_intent = get_intent(data['intent-tag'])\n",
        "    # generate random response from follow up intent\n",
        "    response = random.choice(followup_intent['responses'])\n",
        "\n",
        "    # print randomly selected response\n",
        "    if len(data.keys()) > 1:\n",
        "      print('Bot: ', response.format(**data))\n",
        "    else:\n",
        "      print('Bot: ', response)\n",
        "\n",
        "  # break loop if intent was goodbye\n",
        "  if tag == 'goodbye':\n",
        "    break"
      ],
      "execution_count": null,
      "outputs": []
    },
    {
      "cell_type": "code",
      "metadata": {
        "id": "FckLHbgmOV_9"
      },
      "source": [
        ""
      ],
      "execution_count": null,
      "outputs": []
    }
  ]
}
